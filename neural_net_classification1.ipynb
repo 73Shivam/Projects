{
  "nbformat": 4,
  "nbformat_minor": 0,
  "metadata": {
    "colab": {
      "name": "neural net classification1.ipynb",
      "provenance": [],
      "collapsed_sections": [],
      "mount_file_id": "1eZKfw1LAYx39pmjrWZaa5ynUswRHWkD5",
      "authorship_tag": "ABX9TyPxaZSrqlNn0arG/zju584f",
      "include_colab_link": true
    },
    "kernelspec": {
      "name": "python3",
      "display_name": "Python 3"
    },
    "accelerator": "GPU"
  },
  "cells": [
    {
      "cell_type": "markdown",
      "metadata": {
        "id": "view-in-github",
        "colab_type": "text"
      },
      "source": [
        "<a href=\"https://colab.research.google.com/github/73Shivam/Projects/blob/master/neural_net_classification1.ipynb\" target=\"_parent\"><img src=\"https://colab.research.google.com/assets/colab-badge.svg\" alt=\"Open In Colab\"/></a>"
      ]
    },
    {
      "cell_type": "code",
      "metadata": {
        "id": "1n40VtkaWizM",
        "colab_type": "code",
        "colab": {}
      },
      "source": [
        "import tensorflow as tf\n",
        "from tensorflow.keras import datasets ,layers ,models"
      ],
      "execution_count": 1,
      "outputs": []
    },
    {
      "cell_type": "code",
      "metadata": {
        "id": "lgv92TY7eFjo",
        "colab_type": "code",
        "colab": {}
      },
      "source": [
        "%load_ext tensorboard"
      ],
      "execution_count": 2,
      "outputs": []
    },
    {
      "cell_type": "code",
      "metadata": {
        "id": "CKDx8plQeKLs",
        "colab_type": "code",
        "colab": {}
      },
      "source": [
        "%tensorflow_version 2.x"
      ],
      "execution_count": 3,
      "outputs": []
    },
    {
      "cell_type": "code",
      "metadata": {
        "id": "36vIThdicGNH",
        "colab_type": "code",
        "colab": {}
      },
      "source": [
        "from tensorflow.keras.preprocessing.image import ImageDataGenerator"
      ],
      "execution_count": 4,
      "outputs": []
    },
    {
      "cell_type": "code",
      "metadata": {
        "id": "Ke6nb6LRcG__",
        "colab_type": "code",
        "colab": {}
      },
      "source": [
        "train_datagen = ImageDataGenerator(rescale=1/255,\n",
        "                                   shear_range = 0.2,\n",
        "                                   zoom_range = 0.2,\n",
        "                                   horizontal_flip = True)"
      ],
      "execution_count": 5,
      "outputs": []
    },
    {
      "cell_type": "code",
      "metadata": {
        "id": "LrV4xBqAcNyx",
        "colab_type": "code",
        "colab": {}
      },
      "source": [
        "test_datagen = ImageDataGenerator(rescale=1./255)"
      ],
      "execution_count": 6,
      "outputs": []
    },
    {
      "cell_type": "code",
      "metadata": {
        "id": "oV6UFllXcSQG",
        "colab_type": "code",
        "colab": {
          "base_uri": "https://localhost:8080/",
          "height": 34
        },
        "outputId": "3497fc56-be8c-48ea-be81-1358d8a878af"
      },
      "source": [
        "training_set = train_datagen.flow_from_directory('/content/drive/My Drive/PROJECT1/dataset/train',\n",
        "                                                 target_size =(32,32),\n",
        "                                               batch_size = 32,\n",
        "                                                 class_mode = 'binary')"
      ],
      "execution_count": 7,
      "outputs": [
        {
          "output_type": "stream",
          "text": [
            "Found 195 images belonging to 2 classes.\n"
          ],
          "name": "stdout"
        }
      ]
    },
    {
      "cell_type": "code",
      "metadata": {
        "id": "r0uiJar18O-x",
        "colab_type": "code",
        "colab": {
          "base_uri": "https://localhost:8080/",
          "height": 34
        },
        "outputId": "4197957d-7c24-46b5-b9c9-598c343c1547"
      },
      "source": [
        "training_set"
      ],
      "execution_count": 8,
      "outputs": [
        {
          "output_type": "execute_result",
          "data": {
            "text/plain": [
              "<tensorflow.python.keras.preprocessing.image.DirectoryIterator at 0x7f87b83fe400>"
            ]
          },
          "metadata": {
            "tags": []
          },
          "execution_count": 8
        }
      ]
    },
    {
      "cell_type": "code",
      "metadata": {
        "id": "jQfY6tzvc0_I",
        "colab_type": "code",
        "colab": {
          "base_uri": "https://localhost:8080/",
          "height": 34
        },
        "outputId": "e2a68185-3a86-4f18-f13c-f1bcf86af975"
      },
      "source": [
        "test_set = test_datagen.flow_from_directory('/content/drive/My Drive/PROJECT1/dataset/test',\n",
        "                                            target_size=(32,32),\n",
        "                                            batch_size=32,\n",
        "                                            class_mode ='binary')"
      ],
      "execution_count": 9,
      "outputs": [
        {
          "output_type": "stream",
          "text": [
            "Found 33 images belonging to 2 classes.\n"
          ],
          "name": "stdout"
        }
      ]
    },
    {
      "cell_type": "code",
      "metadata": {
        "id": "AKHhe9QvdC67",
        "colab_type": "code",
        "colab": {
          "base_uri": "https://localhost:8080/",
          "height": 454
        },
        "outputId": "228c8739-74cf-4e1e-cc31-293a7f7489a5"
      },
      "source": [
        "model = models.Sequential()\n",
        "model.add(layers.Conv2D(32,(3,3),activation='relu',input_shape=(32,32,3)))\n",
        "model.add(layers.MaxPooling2D((2,2)))\n",
        "model.add(layers.Conv2D(64,(3,3),activation='relu'))\n",
        "model.add(layers.MaxPooling2D((2,2)))\n",
        "model.add(layers.Conv2D(64,(3,3),activation='relu'))\n",
        "model.add(layers.MaxPooling2D((2,2)))\n",
        "model.add(layers.Flatten())\n",
        "model.add(layers.Dense(64, activation='relu'))\n",
        "model.add(layers.Dense(2, activation ='softmax'))\n",
        "model.summary()"
      ],
      "execution_count": 10,
      "outputs": [
        {
          "output_type": "stream",
          "text": [
            "Model: \"sequential\"\n",
            "_________________________________________________________________\n",
            "Layer (type)                 Output Shape              Param #   \n",
            "=================================================================\n",
            "conv2d (Conv2D)              (None, 30, 30, 32)        896       \n",
            "_________________________________________________________________\n",
            "max_pooling2d (MaxPooling2D) (None, 15, 15, 32)        0         \n",
            "_________________________________________________________________\n",
            "conv2d_1 (Conv2D)            (None, 13, 13, 64)        18496     \n",
            "_________________________________________________________________\n",
            "max_pooling2d_1 (MaxPooling2 (None, 6, 6, 64)          0         \n",
            "_________________________________________________________________\n",
            "conv2d_2 (Conv2D)            (None, 4, 4, 64)          36928     \n",
            "_________________________________________________________________\n",
            "max_pooling2d_2 (MaxPooling2 (None, 2, 2, 64)          0         \n",
            "_________________________________________________________________\n",
            "flatten (Flatten)            (None, 256)               0         \n",
            "_________________________________________________________________\n",
            "dense (Dense)                (None, 64)                16448     \n",
            "_________________________________________________________________\n",
            "dense_1 (Dense)              (None, 2)                 130       \n",
            "=================================================================\n",
            "Total params: 72,898\n",
            "Trainable params: 72,898\n",
            "Non-trainable params: 0\n",
            "_________________________________________________________________\n"
          ],
          "name": "stdout"
        }
      ]
    },
    {
      "cell_type": "code",
      "metadata": {
        "id": "KSZ2OXCndphq",
        "colab_type": "code",
        "colab": {}
      },
      "source": [
        "\n",
        "model.compile(optimizer='adam',\n",
        "              loss=tf.keras.losses.SparseCategoricalCrossentropy(from_logits=True),\n",
        "              metrics=['accuracy'])\n",
        "train_logs = 'logs'\n",
        "tensorflow_callback = tf.keras.callbacks.TensorBoard(train_logs,histogram_freq=1)"
      ],
      "execution_count": 11,
      "outputs": []
    },
    {
      "cell_type": "code",
      "metadata": {
        "id": "zDGYSyvnduPF",
        "colab_type": "code",
        "colab": {
          "base_uri": "https://localhost:8080/",
          "height": 706
        },
        "outputId": "0623f133-b86e-4273-9727-498ab265065e"
      },
      "source": [
        "model.fit(training_set,\n",
        "          epochs= 20,\n",
        "          validation_data =(test_set),batch_size = 50\n",
        "          )"
      ],
      "execution_count": 12,
      "outputs": [
        {
          "output_type": "stream",
          "text": [
            "Epoch 1/20\n",
            "7/7 [==============================] - 126s 18s/step - loss: 0.5681 - accuracy: 0.7436 - val_loss: 0.7844 - val_accuracy: 0.5152\n",
            "Epoch 2/20\n",
            "7/7 [==============================] - 1s 85ms/step - loss: 0.5581 - accuracy: 0.7436 - val_loss: 0.7400 - val_accuracy: 0.5152\n",
            "Epoch 3/20\n",
            "7/7 [==============================] - 1s 85ms/step - loss: 0.5229 - accuracy: 0.7436 - val_loss: 0.5646 - val_accuracy: 0.6970\n",
            "Epoch 4/20\n",
            "7/7 [==============================] - 1s 86ms/step - loss: 0.4845 - accuracy: 0.8462 - val_loss: 0.4947 - val_accuracy: 0.8485\n",
            "Epoch 5/20\n",
            "7/7 [==============================] - 1s 85ms/step - loss: 0.4596 - accuracy: 0.8821 - val_loss: 0.5779 - val_accuracy: 0.7273\n",
            "Epoch 6/20\n",
            "7/7 [==============================] - 1s 85ms/step - loss: 0.4849 - accuracy: 0.8154 - val_loss: 0.4129 - val_accuracy: 0.9091\n",
            "Epoch 7/20\n",
            "7/7 [==============================] - 1s 83ms/step - loss: 0.4246 - accuracy: 0.8974 - val_loss: 0.3791 - val_accuracy: 0.9394\n",
            "Epoch 8/20\n",
            "7/7 [==============================] - 1s 96ms/step - loss: 0.4175 - accuracy: 0.8923 - val_loss: 0.3817 - val_accuracy: 0.9394\n",
            "Epoch 9/20\n",
            "7/7 [==============================] - 1s 84ms/step - loss: 0.4390 - accuracy: 0.8667 - val_loss: 0.3853 - val_accuracy: 0.9394\n",
            "Epoch 10/20\n",
            "7/7 [==============================] - 1s 87ms/step - loss: 0.4601 - accuracy: 0.8513 - val_loss: 0.5199 - val_accuracy: 0.7576\n",
            "Epoch 11/20\n",
            "7/7 [==============================] - 1s 101ms/step - loss: 0.4433 - accuracy: 0.8718 - val_loss: 0.3699 - val_accuracy: 0.9394\n",
            "Epoch 12/20\n",
            "7/7 [==============================] - 1s 83ms/step - loss: 0.4046 - accuracy: 0.9077 - val_loss: 0.3715 - val_accuracy: 0.9394\n",
            "Epoch 13/20\n",
            "7/7 [==============================] - 1s 86ms/step - loss: 0.3978 - accuracy: 0.9128 - val_loss: 0.3733 - val_accuracy: 0.9394\n",
            "Epoch 14/20\n",
            "7/7 [==============================] - 1s 84ms/step - loss: 0.3854 - accuracy: 0.9282 - val_loss: 0.3700 - val_accuracy: 0.9394\n",
            "Epoch 15/20\n",
            "7/7 [==============================] - 1s 86ms/step - loss: 0.3808 - accuracy: 0.9333 - val_loss: 0.3635 - val_accuracy: 0.9394\n",
            "Epoch 16/20\n",
            "7/7 [==============================] - 1s 85ms/step - loss: 0.3784 - accuracy: 0.9436 - val_loss: 0.3631 - val_accuracy: 0.9394\n",
            "Epoch 17/20\n",
            "7/7 [==============================] - 1s 85ms/step - loss: 0.3734 - accuracy: 0.9385 - val_loss: 0.3659 - val_accuracy: 0.9394\n",
            "Epoch 18/20\n",
            "7/7 [==============================] - 1s 86ms/step - loss: 0.3807 - accuracy: 0.9333 - val_loss: 0.3549 - val_accuracy: 0.9394\n",
            "Epoch 19/20\n",
            "7/7 [==============================] - 1s 84ms/step - loss: 0.3777 - accuracy: 0.9333 - val_loss: 0.3715 - val_accuracy: 0.9394\n",
            "Epoch 20/20\n",
            "7/7 [==============================] - 1s 86ms/step - loss: 0.3621 - accuracy: 0.9487 - val_loss: 0.3260 - val_accuracy: 1.0000\n"
          ],
          "name": "stdout"
        },
        {
          "output_type": "execute_result",
          "data": {
            "text/plain": [
              "<tensorflow.python.keras.callbacks.History at 0x7f87b7038128>"
            ]
          },
          "metadata": {
            "tags": []
          },
          "execution_count": 12
        }
      ]
    },
    {
      "cell_type": "code",
      "metadata": {
        "id": "PEQpY8t8Ie0d",
        "colab_type": "code",
        "colab": {}
      },
      "source": [
        "%tensorboard --logdir logs"
      ],
      "execution_count": null,
      "outputs": []
    },
    {
      "cell_type": "code",
      "metadata": {
        "id": "AhDr6hPptRZc",
        "colab_type": "code",
        "colab": {
          "base_uri": "https://localhost:8080/",
          "height": 34
        },
        "outputId": "249100d2-7d61-4337-b22e-0f445e39cadb"
      },
      "source": [
        "test_loss, test_acc = model.evaluate(test_set)"
      ],
      "execution_count": 14,
      "outputs": [
        {
          "output_type": "stream",
          "text": [
            "2/2 [==============================] - 0s 4ms/step - loss: 0.3260 - accuracy: 1.0000\n"
          ],
          "name": "stdout"
        }
      ]
    },
    {
      "cell_type": "code",
      "metadata": {
        "id": "WiHbghCQuKSt",
        "colab_type": "code",
        "colab": {}
      },
      "source": [
        "model.save('flower_prediction_Model_95_percent.h5')"
      ],
      "execution_count": 15,
      "outputs": []
    },
    {
      "cell_type": "code",
      "metadata": {
        "id": "mPlK1UGG0vrY",
        "colab_type": "code",
        "colab": {}
      },
      "source": [
        "import numpy as np\n",
        "from tensorflow.keras.preprocessing import image"
      ],
      "execution_count": 21,
      "outputs": []
    },
    {
      "cell_type": "code",
      "metadata": {
        "id": "0R34ZOF-6GYZ",
        "colab_type": "code",
        "colab": {
          "base_uri": "https://localhost:8080/",
          "height": 49
        },
        "outputId": "d6ff0976-dc16-4c17-f483-5dd895e6f9f5"
      },
      "source": [
        "# load single image and resize it\n",
        "w=h=32\n",
        "img = image.load_img('/content/drive/My Drive/SUNFLOWER - Google Search/Z (4).jpg',target_size = (w,h))\n",
        "img"
      ],
      "execution_count": 22,
      "outputs": [
        {
          "output_type": "execute_result",
          "data": {
            "image/png": "[encoded data removed]",
            "text/plain": [
              "<PIL.Image.Image image mode=RGB size=32x32 at 0x7F87BAC79940>"
            ]
          },
          "metadata": {
            "tags": []
          },
          "execution_count": 22
        }
      ]
    },
    {
      "cell_type": "code",
      "metadata": {
        "id": "d3WgxMku7RFy",
        "colab_type": "code",
        "colab": {
          "base_uri": "https://localhost:8080/",
          "height": 34
        },
        "outputId": "6f3ec93c-53eb-4ee7-b1cb-9babf60d44ba"
      },
      "source": [
        "# convert to numpy array\n",
        "x = image.img_to_array(img)\n",
        "x.shape"
      ],
      "execution_count": 23,
      "outputs": [
        {
          "output_type": "execute_result",
          "data": {
            "text/plain": [
              "(32, 32, 3)"
            ]
          },
          "metadata": {
            "tags": []
          },
          "execution_count": 23
        }
      ]
    },
    {
      "cell_type": "code",
      "metadata": {
        "id": "bJqQCDC07z2w",
        "colab_type": "code",
        "colab": {
          "base_uri": "https://localhost:8080/",
          "height": 34
        },
        "outputId": "155621a6-dede-47ad-933a-ab30d12ac21e"
      },
      "source": [
        "# prepare for passing into model\n",
        "x= np.expand_dims(x,axis=0)\n",
        "x.shape"
      ],
      "execution_count": 24,
      "outputs": [
        {
          "output_type": "execute_result",
          "data": {
            "text/plain": [
              "(1, 32, 32, 3)"
            ]
          },
          "metadata": {
            "tags": []
          },
          "execution_count": 24
        }
      ]
    },
    {
      "cell_type": "code",
      "metadata": {
        "id": "YBEPpZL48Wko",
        "colab_type": "code",
        "colab": {}
      },
      "source": [
        "\n",
        "# just do it\n",
        "result = model.predict(x)"
      ],
      "execution_count": 25,
      "outputs": []
    },
    {
      "cell_type": "code",
      "metadata": {
        "id": "0yjgK5KA9Ye5",
        "colab_type": "code",
        "colab": {
          "base_uri": "https://localhost:8080/",
          "height": 34
        },
        "outputId": "c71d636e-36a4-4325-aba7-c8c5a99d62a9"
      },
      "source": [
        "# select the result where value is higher\n",
        "if np.argmax(result, axis=-1)==0:\n",
        "  print('lotus')\n",
        "else:\n",
        "  print('sunflower')"
      ],
      "execution_count": 26,
      "outputs": [
        {
          "output_type": "stream",
          "text": [
            "sunflower\n"
          ],
          "name": "stdout"
        }
      ]
    },
    {
      "cell_type": "code",
      "metadata": {
        "id": "h055TEKI-R4Z",
        "colab_type": "code",
        "colab": {}
      },
      "source": [
        "def flower_predictor(image_path, model, w=32, h=32):\n",
        "  img = image.load_img(image_path,target_size=(w,h))\n",
        "  x= image.img_to_array(img)\n",
        "  x=np.expand_dims(x,axis=0)\n",
        "  return model.predict(x)"
      ],
      "execution_count": 27,
      "outputs": []
    },
    {
      "cell_type": "code",
      "metadata": {
        "id": "SzA5m4-d_2CX",
        "colab_type": "code",
        "colab": {
          "base_uri": "https://localhost:8080/",
          "height": 34
        },
        "outputId": "ed5418b2-d6f7-4947-8087-8e677c00393a"
      },
      "source": [
        "pred = flower_predictor('/content/drive/My Drive/lotus - Google Search/Z (13).jpg',model,)\n",
        "if np.argmax(pred,axis=-1)==0:\n",
        "  print('lotus')\n",
        "else:\n",
        "  print('sunflower')\n"
      ],
      "execution_count": 29,
      "outputs": [
        {
          "output_type": "stream",
          "text": [
            "lotus\n"
          ],
          "name": "stdout"
        }
      ]
    },
    {
      "cell_type": "code",
      "metadata": {
        "id": "69i-LvT0A6vR",
        "colab_type": "code",
        "colab": {
          "base_uri": "https://localhost:8080/",
          "height": 34
        },
        "outputId": "33eb5bdf-be26-4d3c-bc97-c0c31514a82c"
      },
      "source": [
        "pred = flower_predictor('/content/drive/My Drive/SUNFLOWER - Google Search/images (49).jpg',model,)\n",
        "if np.argmax(pred,axis=-1)==0:\n",
        "  print('lotus')\n",
        "else:\n",
        "  print('sunflower')\n"
      ],
      "execution_count": 30,
      "outputs": [
        {
          "output_type": "stream",
          "text": [
            "sunflower\n"
          ],
          "name": "stdout"
        }
      ]
    },
    {
      "cell_type": "code",
      "metadata": {
        "id": "28K4IX6Wloig",
        "colab_type": "code",
        "colab": {}
      },
      "source": [
        ""
      ],
      "execution_count": null,
      "outputs": []
    }
  ]
}